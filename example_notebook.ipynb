{
 "cells": [
  {
   "cell_type": "code",
   "execution_count": 1,
   "metadata": {},
   "outputs": [],
   "source": [
    "from elon import elon_call\n",
    "position = 'chr2'\n",
    "path = '../../5AB.filtered.mcool'\n",
    "resolution = 2000"
   ]
  },
  {
   "cell_type": "markdown",
   "metadata": {},
   "source": [
    "## Run function"
   ]
  },
  {
   "cell_type": "markdown",
   "metadata": {},
   "source": [
    "#### Elongated \"left\" loops"
   ]
  },
  {
   "cell_type": "code",
   "execution_count": 2,
   "metadata": {},
   "outputs": [
    {
     "name": "stderr",
     "output_type": "stream",
     "text": [
      "INFO:Elon_MaskED:Start Elon MaskED\n",
      "INFO:Elon_MaskED:Run pileup\n",
      "INFO:coolpuppy:('chr2', 'chr2'): 116\n",
      "INFO:coolpuppy:Total number of piled up windows: 116\n",
      "INFO:Elon_MaskED:Run pileup\n",
      "INFO:coolpuppy:('chr2', 'chr2'): 27\n",
      "INFO:coolpuppy:Total number of piled up windows: 27\n",
      "INFO:Elon_MaskED:Saving results\n",
      "INFO:Elon_MaskED:Done! Running time is 8.14 sec\n"
     ]
    }
   ],
   "source": [
    "elon_call(path, resolution, position, end_bin=30, quantile_threshold=0.98, fdr_correction=0.05, qval_threshold=0.3)"
   ]
  },
  {
   "cell_type": "markdown",
   "metadata": {},
   "source": [
    "#### Elongated \"right\" loops"
   ]
  },
  {
   "cell_type": "code",
   "execution_count": 3,
   "metadata": {},
   "outputs": [
    {
     "name": "stderr",
     "output_type": "stream",
     "text": [
      "INFO:Elon_MaskED:Start Elon MaskED\n",
      "INFO:Elon_MaskED:Run pileup\n",
      "INFO:coolpuppy:('chr2', 'chr2'): 55\n",
      "INFO:coolpuppy:Total number of piled up windows: 55\n",
      "INFO:Elon_MaskED:Run pileup\n",
      "INFO:coolpuppy:('chr2', 'chr2'): 9\n",
      "INFO:coolpuppy:Total number of piled up windows: 9\n",
      "INFO:Elon_MaskED:Saving results\n",
      "INFO:Elon_MaskED:Done! Running time is 8.19 sec\n"
     ]
    }
   ],
   "source": [
    "elon_call(path, resolution, position, end_bin=25, quantile_threshold=0.99, fdr_correction=0.01, qval_threshold=0.1, elong='right')"
   ]
  },
  {
   "cell_type": "markdown",
   "metadata": {},
   "source": [
    "#### Symmetric loops"
   ]
  },
  {
   "cell_type": "code",
   "execution_count": 8,
   "metadata": {},
   "outputs": [
    {
     "name": "stderr",
     "output_type": "stream",
     "text": [
      "INFO:Elon_MaskED:Start Elon MaskED\n",
      "INFO:Elon_MaskED:Run pileup\n",
      "INFO:coolpuppy:('chr2', 'chr2'): 55\n",
      "INFO:coolpuppy:Total number of piled up windows: 55\n",
      "INFO:Elon_MaskED:Run pileup\n",
      "INFO:coolpuppy:('chr2', 'chr2'): 27\n",
      "INFO:coolpuppy:Total number of piled up windows: 27\n",
      "INFO:Elon_MaskED:Saving results\n",
      "INFO:Elon_MaskED:Done! Running time is 8.28 sec\n"
     ]
    }
   ],
   "source": [
    "elon_call(path, resolution, position, end_bin=25, quantile_threshold=0.99, fdr_correction=0.01, qval_threshold=0.1, elong=None)"
   ]
  }
 ],
 "metadata": {
  "kernelspec": {
   "display_name": "bi_project",
   "language": "python",
   "name": "python3"
  },
  "language_info": {
   "codemirror_mode": {
    "name": "ipython",
    "version": 3
   },
   "file_extension": ".py",
   "mimetype": "text/x-python",
   "name": "python",
   "nbconvert_exporter": "python",
   "pygments_lexer": "ipython3",
   "version": "3.12.1"
  }
 },
 "nbformat": 4,
 "nbformat_minor": 2
}
